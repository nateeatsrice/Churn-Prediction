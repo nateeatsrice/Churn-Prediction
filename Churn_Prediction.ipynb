{
  "nbformat": 4,
  "nbformat_minor": 0,
  "metadata": {
    "colab": {
      "provenance": [],
      "mount_file_id": "1V-nQPUkIrTMH6Tk9BKBDKA9qeTZfibol",
      "authorship_tag": "ABX9TyNom/pTdSBb1wK/xhCEzWnV"
    },
    "kernelspec": {
      "name": "python3",
      "display_name": "Python 3"
    },
    "language_info": {
      "name": "python"
    }
  },
  "cells": [
    {
      "cell_type": "code",
      "source": [
        "%cd /content/drive/MyDrive/ML\\ Projects/Churn-Prediction"
      ],
      "metadata": {
        "id": "aW9_kPjqzfbG",
        "colab": {
          "base_uri": "https://localhost:8080/"
        },
        "outputId": "daa14d6f-d17f-4393-bbac-1704147e3418"
      },
      "execution_count": 4,
      "outputs": [
        {
          "output_type": "stream",
          "name": "stdout",
          "text": [
            "/content/drive/MyDrive/ML Projects/Churn-Prediction\n"
          ]
        }
      ]
    },
    {
      "cell_type": "code",
      "execution_count": 5,
      "metadata": {
        "id": "TKo4t1j5jv8-"
      },
      "outputs": [],
      "source": [
        "import pandas as pd\n",
        "import numpy as np\n",
        "import matplotlib.pyplot as mlt"
      ]
    },
    {
      "cell_type": "code",
      "source": [
        "df = pd.read_csv('/content/drive/MyDrive/ML Projects/Churn-Prediction/Telco-Customer-Churn.csv')"
      ],
      "metadata": {
        "id": "Wi2iEBroj0tr"
      },
      "execution_count": 8,
      "outputs": []
    },
    {
      "cell_type": "code",
      "source": [
        "!git config --global user.name \"nateeatsrice\""
      ],
      "metadata": {
        "id": "fOYsBwY4j0qe"
      },
      "execution_count": null,
      "outputs": []
    },
    {
      "cell_type": "code",
      "source": [],
      "metadata": {
        "id": "_3n286Tzj0nK"
      },
      "execution_count": null,
      "outputs": []
    },
    {
      "cell_type": "code",
      "source": [],
      "metadata": {
        "id": "JbziRPUTj0kL"
      },
      "execution_count": null,
      "outputs": []
    }
  ]
}
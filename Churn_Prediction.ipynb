{
  "nbformat": 4,
  "nbformat_minor": 0,
  "metadata": {
    "colab": {
      "provenance": [],
      "gpuType": "T4",
      "mount_file_id": "https://github.com/nateeatsrice/Churn-Prediction/blob/main/Churn_Prediction.ipynb",
      "authorship_tag": "ABX9TyP7PrTGJ4v/UL0HQklAgP23"
    },
    "kernelspec": {
      "name": "python3",
      "display_name": "Python 3"
    },
    "language_info": {
      "name": "python"
    },
    "accelerator": "GPU"
  },
  "cells": [
    {
      "cell_type": "markdown",
      "source": [
        "cd /content/drive/MyDrive/ML\\ Projects/Churn\\ Prediction/code"
      ],
      "metadata": {
        "id": "2V1tCYhiOkDq"
      }
    },
    {
      "cell_type": "code",
      "execution_count": 1,
      "metadata": {
        "id": "TKo4t1j5jv8-"
      },
      "outputs": [],
      "source": [
        "import pandas as pd\n",
        "import numpy as np\n",
        "import matplotlib.pyplot as mlt"
      ]
    },
    {
      "cell_type": "code",
      "source": [
        "df = pd.read_csv('/content/drive/MyDrive/ML Projects/Churn Prediction/Telco-Customer-Churn.csv')"
      ],
      "metadata": {
        "id": "Wi2iEBroj0tr"
      },
      "execution_count": null,
      "outputs": []
    },
    {
      "cell_type": "code",
      "source": [],
      "metadata": {
        "id": "fOYsBwY4j0qe"
      },
      "execution_count": null,
      "outputs": []
    },
    {
      "cell_type": "code",
      "source": [],
      "metadata": {
        "id": "_3n286Tzj0nK"
      },
      "execution_count": null,
      "outputs": []
    },
    {
      "cell_type": "code",
      "source": [],
      "metadata": {
        "id": "JbziRPUTj0kL"
      },
      "execution_count": null,
      "outputs": []
    }
  ]
}
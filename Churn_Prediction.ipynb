{
  "nbformat": 4,
  "nbformat_minor": 0,
  "metadata": {
    "colab": {
      "provenance": [],
      "mount_file_id": "1V-nQPUkIrTMH6Tk9BKBDKA9qeTZfibol",
      "authorship_tag": "ABX9TyNPpgzIy/pfYLcS0Ye/vHOp"
    },
    "kernelspec": {
      "name": "python3",
      "display_name": "Python 3"
    },
    "language_info": {
      "name": "python"
    }
  },
  "cells": [
    {
      "cell_type": "code",
      "source": [
        "%cd /content/drive/MyDrive/ML\\ Projects/Churn-Prediction"
      ],
      "metadata": {
        "id": "aW9_kPjqzfbG"
      },
      "execution_count": null,
      "outputs": []
    },
    {
      "cell_type": "code",
      "execution_count": null,
      "metadata": {
        "id": "TKo4t1j5jv8-"
      },
      "outputs": [],
      "source": [
        "import pandas as pd\n",
        "import numpy as np\n",
        "import matplotlib.pyplot as mlt"
      ]
    },
    {
      "cell_type": "code",
      "source": [
        "df = pd.read_csv('/content/drive/MyDrive/ML Projects/Churn Prediction/Telco-Customer-Churn.csv')"
      ],
      "metadata": {
        "id": "Wi2iEBroj0tr"
      },
      "execution_count": null,
      "outputs": []
    },
    {
      "cell_type": "code",
      "source": [
        "!git config --global user.name \"nateeatsrice\""
      ],
      "metadata": {
        "id": "fOYsBwY4j0qe"
      },
      "execution_count": null,
      "outputs": []
    },
    {
      "cell_type": "code",
      "source": [],
      "metadata": {
        "id": "_3n286Tzj0nK"
      },
      "execution_count": null,
      "outputs": []
    },
    {
      "cell_type": "code",
      "source": [],
      "metadata": {
        "id": "JbziRPUTj0kL"
      },
      "execution_count": null,
      "outputs": []
    }
  ]
}